{
 "cells": [
  {
   "cell_type": "markdown",
   "metadata": {
    "deletable": true,
    "editable": true
   },
   "source": [
    "# A collection of resources on Bayesian ML in R&D"
   ]
  },
  {
   "cell_type": "markdown",
   "metadata": {
    "deletable": true,
    "editable": true
   },
   "source": [
    "Feel free to contribute. If you add a link, please include the author and title and possibly a short summary and conslusions with references to your links"
   ]
  },
  {
   "cell_type": "markdown",
   "metadata": {
    "deletable": true,
    "editable": true
   },
   "source": [
    "### Prerequisites ###\n",
    "\n",
    "1. general ML (supervised learning, classification, regression, optimization of the cost function, neural nets)\n",
    "1. Gaussian process regression (kriging). I recommend Neil Lawrence:\n",
    "    https://www.youtube.com/watch?v=ewJ3AxKclOg"
   ]
  },
  {
   "cell_type": "markdown",
   "metadata": {
    "deletable": true,
    "editable": true
   },
   "source": [
    "### Motivation\n",
    "1. \"In May 2016 there was the first fatality from an assisted\n",
    "driving system, caused by the perception system confusing\n",
    "the white side of a trailer for bright sky (NHTSA, 2017).\n",
    "In a second recent example, an image classification system\n",
    "erroneously  identified  two  African  Americans  as  gorillas\n",
    "(Guynn, 2015),  raising concerns of racial discrimination\"\n",
    "1. https://www.youtube.com/watch?v=rekIC0G_bYA G. Hinton explains why we need Bayesian learning\n",
    "1. https://alexgkendall.com/computer_vision/bayesian_deep_learning_for_safe_ai/ A. Kendall explains uncertainty\n",
    "\n",
    "Conclusions:\n",
    "- (1) our beliefs about complexity of the models should not be affected by the amount of data available - overfitting does not exist in Bayesian setting\n",
    "- (2) 2 types of uncertainty:\n",
    "  - Epistemic uncertainty captures our ignorance about which model generated our collected data - model uncertainty.\n",
    "    Can be reduced given more data\n",
    "  - Aleatoric uncertainty captures our uncertainty with respect to information which our data cannot explain. \n",
    "    This  could  be  for  example  sensor  noise  or  motion  noise,  resulting  in  uncertainty  which  cannot  be  reduced  even  if  more  data  were  to  be  collected.\n",
    "    Aleatoric uncertainty  can  further  be  categorized  into homoscedastic uncertainty, uncertainty which stays constant for different inputs, and heteroscedastic uncertainty.\n",
    "    Heteroscedastic  uncertainty  depends  on  the  inputs  to  the  model,  with some  inputs  potentially  having  more  noisy  outputs  than others. Heteroscedatic true data distribution has different variance in different regions of the    domain. Our model should be less confident in regions of higher variance. "
   ]
  },
  {
   "cell_type": "markdown",
   "metadata": {
    "deletable": true,
    "editable": true
   },
   "source": [
    "### Overview\n",
    "\n",
    "1. Z. Ghahramani \"Probabilistic machine learning and artificial intelligence\"\n",
    "1. http://bayesiandeeplearning.org/slides/nips16bayesdeep.pdf Z. Ghahramani \"A history of Bayesian neural networks\"\n",
    "1. http://mlg.eng.cam.ac.uk/yarin/thesis/thesis.pdf Yarin Gal \"Uncertainty in deep learning\"\n",
    "1. http://mlg.eng.cam.ac.uk/yarin/blog_3d801aa532c1ce.html more stuff from Yarin Gal, interactive demos\n",
    "1. https://arxiv.org/pdf/1703.04977.pdf A. Kendall, Y. Gal \"What Uncertainties Do We Need in Bayesian Deep Learning for Computer Vision?\"\n",
    "\n",
    "Conclusions: \n",
    "- (1, 2, 3) Uncertainty can be predicted\n",
    "- (1, 2, 3) The goal is to estimate the posterior distribution of parameters given data\n",
    "- (1, 2, 3) This posterior distribution is intractable to compute, it can be approximated using Variational Inference\n",
    "- (3) Training a nn with dropout and weight decay is analogous to variational inference - such net is already Bayesian\n",
    "- (3) Epistemic uncertainty can be estimated using a technique called Monte-Carlo dropout, when predictions are repeated using different dropout masks at testing times. This gives us not a single prediction, but rather a distribution\n",
    "- (4) Aleatoric uncertainty can be estimated using a separate output in a neural net to predict variance and a modified cost function. Intuition: \n",
    "  1. imagine regression model which simultaneously predicts mean and variance\n",
    "  1. cost function is weighted MSE\n",
    "  1. the weight is dependent on the variance, lower when predicted variance is high\n",
    "  1. such model can deal with a single prediction error in 2 ways: either reduce the error or increase the predicted variance (meaning reduce the weight of this example). \n",
    "  1. variance regularization is required, otherwise it will be optimal for the model to assign high variance to all examples (thus giving very small weights). \n"
   ]
  },
  {
   "cell_type": "markdown",
   "metadata": {
    "deletable": true,
    "editable": true
   },
   "source": [
    "### Tutorials/code/libs\n",
    "\n",
    "1. https://github.com/yaringal/BayesianRNN callbacks.py has an implementation of MC dropout for epistemic uncertainty\n",
    "1. https://github.com/yaringal/HeteroscedasticDropoutUncertainty explanation of aleatoric uncertainty (technically h. uncertainty is a part of a. uncertainty, read more in motivation section number 2); javascript implementation\n",
    "1. https://medium.com/towards-data-science/building-a-bayesian-deep-learning-classifier-ece1845bc09 Implementation of aleatoric and epistemic variance prediction for classification\n",
    "1. edwardlib.org/tutorials/ edward - python lib to perform Variational Inference\n",
    "1. https://alpha-i.co/blog/MNIST-for-ML-beginners-The-Bayesian-Way.html Tutorial on using edward lib on MNIST\n",
    "1. https://www.youtube.com/watch?v=I09QVNrUS3Q A. Rowan talks about using MC dropout and compares it to VI in edward\n",
    "\n",
    "Conclusions: \n",
    "- 2 practical ways of doing Bayesian learning in python\n",
    "    1. edward - more mathematically rigorous (4), easier to use (5), possibly worse results due to certain independence assumptions in VI algorthms (6), can utilize GPU (1)\n",
    "    2. MC dropout (1) + variance prediction (2, 3) in Keras - optimization objective are sometimes different among papers, need to write own code (this will be hopefully done and available in this repo), possibly better results (6), can utilize GPU\n"
   ]
  }
 ],
 "metadata": {
  "kernelspec": {
   "display_name": "Python 2",
   "language": "python",
   "name": "python2"
  },
  "language_info": {
   "codemirror_mode": {
    "name": "ipython",
    "version": 2
   },
   "file_extension": ".py",
   "mimetype": "text/x-python",
   "name": "python",
   "nbconvert_exporter": "python",
   "pygments_lexer": "ipython2",
   "version": "2.7.12"
  }
 },
 "nbformat": 4,
 "nbformat_minor": 2
}
